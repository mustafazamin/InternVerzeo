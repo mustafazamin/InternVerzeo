{
 "cells": [
  {
   "cell_type": "code",
   "execution_count": 27,
   "metadata": {},
   "outputs": [],
   "source": [
    "import pyaudio  # Make sure that pyaudio is installed before running this cell"
   ]
  },
  {
   "cell_type": "code",
   "execution_count": 28,
   "metadata": {},
   "outputs": [],
   "source": [
    "import speech_recognition as spr   # ! pip install SpeechRecognition"
   ]
  },
  {
   "cell_type": "code",
   "execution_count": 29,
   "metadata": {},
   "outputs": [],
   "source": [
    "mic = spr.Microphone()"
   ]
  },
  {
   "cell_type": "code",
   "execution_count": 30,
   "metadata": {},
   "outputs": [
    {
     "data": {
      "text/plain": [
       "[' - Input',\n",
       " 'Microphone (Realtek Audio)',\n",
       " ' - Output',\n",
       " 'Speakers / Headphones (Realtek ',\n",
       " 'Speakers (Realtek HD Audio output)',\n",
       " 'Microphone (Realtek HD Audio Mic input)',\n",
       " 'Stereo Mix (Realtek HD Audio Stereo input)']"
      ]
     },
     "execution_count": 30,
     "metadata": {},
     "output_type": "execute_result"
    }
   ],
   "source": [
    "mic.list_microphone_names()"
   ]
  },
  {
   "cell_type": "code",
   "execution_count": 31,
   "metadata": {},
   "outputs": [],
   "source": [
    "mic = spr.Microphone(device_index=1)        ### Choose the microphone from the above list"
   ]
  },
  {
   "cell_type": "code",
   "execution_count": 32,
   "metadata": {},
   "outputs": [],
   "source": [
    "r = spr.Recognizer()"
   ]
  },
  {
   "cell_type": "code",
   "execution_count": 33,
   "metadata": {},
   "outputs": [
    {
     "name": "stdout",
     "output_type": "stream",
     "text": [
      "इधर बहुत गर्मी है\n"
     ]
    }
   ],
   "source": [
    "with mic as source:\n",
    "    text1 = r.recognize_google(r.listen(source), language='Hi')\n",
    "print(text1)    "
   ]
  },
  {
   "cell_type": "code",
   "execution_count": 34,
   "metadata": {},
   "outputs": [],
   "source": [
    "import googletrans\n",
    "from googletrans import Translator"
   ]
  },
  {
   "cell_type": "code",
   "execution_count": 35,
   "metadata": {},
   "outputs": [],
   "source": [
    "translator = Translator()\n",
    "translations = {}\n",
    "language = 'en'               #To which language you want to translate    Ta - tamil, Te - Telugu, en - English , Hi - Hindi "
   ]
  },
  {
   "cell_type": "code",
   "execution_count": 36,
   "metadata": {},
   "outputs": [
    {
     "data": {
      "text/plain": [
       "{'इधर बहुत गर्मी है': \"It's hot here\"}"
      ]
     },
     "execution_count": 36,
     "metadata": {},
     "output_type": "execute_result"
    }
   ],
   "source": [
    "# Adding all the translations to a dictionary (translations)\n",
    "translations[text1] = translator.translate(text1,dest = language).text        \n",
    "translations"
   ]
  },
  {
   "cell_type": "code",
   "execution_count": 37,
   "metadata": {},
   "outputs": [],
   "source": [
    "from gtts import gTTS"
   ]
  },
  {
   "cell_type": "code",
   "execution_count": 38,
   "metadata": {},
   "outputs": [],
   "source": [
    "myobj = gTTS(translations[text1], lang=language, slow=False) "
   ]
  },
  {
   "cell_type": "code",
   "execution_count": 39,
   "metadata": {},
   "outputs": [],
   "source": [
    "myobj.save('translated.wav')"
   ]
  },
  {
   "cell_type": "code",
   "execution_count": 40,
   "metadata": {},
   "outputs": [
    {
     "data": {
      "text/html": [
       "\n",
       "                <audio  controls=\"controls\" >\n",
       "                    <source src=\"data:audio/wav;base64,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\" type=\"audio/wav\" />\n",
       "                    Your browser does not support the audio element.\n",
       "                </audio>\n",
       "              "
      ],
      "text/plain": [
       "<IPython.lib.display.Audio object>"
      ]
     },
     "execution_count": 40,
     "metadata": {},
     "output_type": "execute_result"
    }
   ],
   "source": [
    "import IPython\n",
    "IPython.display.Audio(\"translated.wav\")               # Translated audio"
   ]
  },
  {
   "cell_type": "code",
   "execution_count": null,
   "metadata": {},
   "outputs": [],
   "source": []
  }
 ],
 "metadata": {
  "kernelspec": {
   "display_name": "Python 3",
   "language": "python",
   "name": "python3"
  },
  "language_info": {
   "codemirror_mode": {
    "name": "ipython",
    "version": 3
   },
   "file_extension": ".py",
   "mimetype": "text/x-python",
   "name": "python",
   "nbconvert_exporter": "python",
   "pygments_lexer": "ipython3",
   "version": "3.7.7"
  }
 },
 "nbformat": 4,
 "nbformat_minor": 4
}
